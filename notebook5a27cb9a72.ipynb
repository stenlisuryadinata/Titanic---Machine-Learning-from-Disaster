{
  "metadata": {
    "kernelspec": {
      "language": "python",
      "display_name": "Python 3",
      "name": "python3"
    },
    "language_info": {
      "name": "python",
      "version": "3.7.12",
      "mimetype": "text/x-python",
      "codemirror_mode": {
        "name": "ipython",
        "version": 3
      },
      "pygments_lexer": "ipython3",
      "nbconvert_exporter": "python",
      "file_extension": ".py"
    },
    "colab": {
      "provenance": [],
      "include_colab_link": true
    }
  },
  "nbformat_minor": 0,
  "nbformat": 4,
  "cells": [
    {
      "cell_type": "markdown",
      "metadata": {
        "id": "view-in-github",
        "colab_type": "text"
      },
      "source": [
        "<a href=\"https://colab.research.google.com/github/stenlisuryadinata/Titanic---Machine-Learning-from-Disaster/blob/main/notebook5a27cb9a72.ipynb\" target=\"_parent\"><img src=\"https://colab.research.google.com/assets/colab-badge.svg\" alt=\"Open In Colab\"/></a>"
      ]
    },
    {
      "cell_type": "code",
      "source": [
        "# This Python 3 environment comes with many helpful analytics libraries installed\n",
        "# It is defined by the kaggle/python Docker image: https://github.com/kaggle/docker-python\n",
        "# For example, here's several helpful packages to load\n",
        "\n",
        "import numpy as np # linear algebra\n",
        "import pandas as pd # data processing, CSV file I/O (e.g. pd.read_csv)\n",
        "\n",
        "# Input data files are available in the read-only \"../input/\" directory\n",
        "# For example, running this (by clicking run or pressing Shift+Enter) will list all files under the input directory\n",
        "\n",
        "import os\n",
        "for dirname, _, filenames in os.walk('/kaggle/input'):\n",
        "    for filename in filenames:\n",
        "        print(os.path.join(dirname, filename))\n",
        "\n",
        "# You can write up to 20GB to the current directory (/kaggle/working/) that gets preserved as output when you create a version using \"Save & Run All\" \n",
        "# You can also write temporary files to /kaggle/temp/, but they won't be saved outside of the current session"
      ],
      "metadata": {
        "_uuid": "8f2839f25d086af736a60e9eeb907d3b93b6e0e5",
        "_cell_guid": "b1076dfc-b9ad-4769-8c92-a6c4dae69d19",
        "execution": {
          "iopub.status.busy": "2022-10-28T17:22:22.813418Z",
          "iopub.execute_input": "2022-10-28T17:22:22.813864Z",
          "iopub.status.idle": "2022-10-28T17:22:22.822707Z",
          "shell.execute_reply.started": "2022-10-28T17:22:22.813826Z",
          "shell.execute_reply": "2022-10-28T17:22:22.821465Z"
        },
        "trusted": true,
        "id": "k4NrsIkdod0P",
        "outputId": "1a0f8833-ad3c-48a2-ed06-c8d564bdf0d2"
      },
      "execution_count": null,
      "outputs": [
        {
          "name": "stdout",
          "text": "/kaggle/input/titanic/train.csv\n/kaggle/input/titanic/test.csv\n/kaggle/input/titanic/gender_submission.csv\n",
          "output_type": "stream"
        }
      ]
    },
    {
      "cell_type": "code",
      "source": [
        "df_test=pd.read_csv(\"../input/titanic/test.csv\")   "
      ],
      "metadata": {
        "execution": {
          "iopub.status.busy": "2022-10-28T17:22:22.839115Z",
          "iopub.execute_input": "2022-10-28T17:22:22.839552Z",
          "iopub.status.idle": "2022-10-28T17:22:22.851173Z",
          "shell.execute_reply.started": "2022-10-28T17:22:22.839517Z",
          "shell.execute_reply": "2022-10-28T17:22:22.850146Z"
        },
        "trusted": true,
        "id": "MI2u7NK5od0S"
      },
      "execution_count": null,
      "outputs": []
    },
    {
      "cell_type": "code",
      "source": [
        "#df_test=pd.read_csv(\"../input/titanic/test.csv\")"
      ],
      "metadata": {
        "execution": {
          "iopub.status.busy": "2022-10-28T17:22:22.860311Z",
          "iopub.execute_input": "2022-10-28T17:22:22.860722Z",
          "iopub.status.idle": "2022-10-28T17:22:22.865837Z",
          "shell.execute_reply.started": "2022-10-28T17:22:22.860688Z",
          "shell.execute_reply": "2022-10-28T17:22:22.864739Z"
        },
        "trusted": true,
        "id": "CFY26Pekod0T"
      },
      "execution_count": null,
      "outputs": []
    },
    {
      "cell_type": "code",
      "source": [
        "df_train=pd.read_csv(\"../input/titanic/train.csv\")   "
      ],
      "metadata": {
        "execution": {
          "iopub.status.busy": "2022-10-28T17:22:22.883080Z",
          "iopub.execute_input": "2022-10-28T17:22:22.883813Z",
          "iopub.status.idle": "2022-10-28T17:22:22.893816Z",
          "shell.execute_reply.started": "2022-10-28T17:22:22.883767Z",
          "shell.execute_reply": "2022-10-28T17:22:22.892915Z"
        },
        "trusted": true,
        "id": "WJFDgzm5od0U"
      },
      "execution_count": null,
      "outputs": []
    },
    {
      "cell_type": "code",
      "source": [
        "df_test.info()"
      ],
      "metadata": {
        "execution": {
          "iopub.status.busy": "2022-10-28T17:22:22.903805Z",
          "iopub.execute_input": "2022-10-28T17:22:22.904523Z",
          "iopub.status.idle": "2022-10-28T17:22:22.919279Z",
          "shell.execute_reply.started": "2022-10-28T17:22:22.904484Z",
          "shell.execute_reply": "2022-10-28T17:22:22.917780Z"
        },
        "trusted": true,
        "id": "atCgptoUod0U",
        "outputId": "1585dc52-decc-471d-c13e-b7d069a1a06e"
      },
      "execution_count": null,
      "outputs": [
        {
          "name": "stdout",
          "text": "<class 'pandas.core.frame.DataFrame'>\nRangeIndex: 418 entries, 0 to 417\nData columns (total 11 columns):\n #   Column       Non-Null Count  Dtype  \n---  ------       --------------  -----  \n 0   PassengerId  418 non-null    int64  \n 1   Pclass       418 non-null    int64  \n 2   Name         418 non-null    object \n 3   Sex          418 non-null    object \n 4   Age          332 non-null    float64\n 5   SibSp        418 non-null    int64  \n 6   Parch        418 non-null    int64  \n 7   Ticket       418 non-null    object \n 8   Fare         417 non-null    float64\n 9   Cabin        91 non-null     object \n 10  Embarked     418 non-null    object \ndtypes: float64(2), int64(4), object(5)\nmemory usage: 36.0+ KB\n",
          "output_type": "stream"
        }
      ]
    },
    {
      "cell_type": "code",
      "source": [
        "#dropping this column as they look a lot of work 'Name', 'Sibsp', 'Parch', 'Ticket', 'Fare', 'Cabin', 'Embarked'"
      ],
      "metadata": {
        "execution": {
          "iopub.status.busy": "2022-10-28T17:22:22.921773Z",
          "iopub.execute_input": "2022-10-28T17:22:22.922288Z",
          "iopub.status.idle": "2022-10-28T17:22:22.934150Z",
          "shell.execute_reply.started": "2022-10-28T17:22:22.922250Z",
          "shell.execute_reply": "2022-10-28T17:22:22.933170Z"
        },
        "trusted": true,
        "id": "JqZQKVrzod0V"
      },
      "execution_count": null,
      "outputs": []
    },
    {
      "cell_type": "code",
      "source": [
        "df_train = df_train.drop(['Name', 'SibSp', 'Parch', 'Ticket', 'Fare', 'Cabin', 'Embarked'],axis=1)\n",
        "df_test = df_test.drop(['Name', 'SibSp', 'Parch', 'Ticket', 'Fare', 'Cabin', 'Embarked'],axis=1)"
      ],
      "metadata": {
        "execution": {
          "iopub.status.busy": "2022-10-28T17:22:22.936061Z",
          "iopub.execute_input": "2022-10-28T17:22:22.937004Z",
          "iopub.status.idle": "2022-10-28T17:22:22.949002Z",
          "shell.execute_reply.started": "2022-10-28T17:22:22.936957Z",
          "shell.execute_reply": "2022-10-28T17:22:22.946573Z"
        },
        "trusted": true,
        "id": "5FARIXdsod0V"
      },
      "execution_count": null,
      "outputs": []
    },
    {
      "cell_type": "code",
      "source": [
        "df_train.info()"
      ],
      "metadata": {
        "execution": {
          "iopub.status.busy": "2022-10-28T17:22:22.951306Z",
          "iopub.execute_input": "2022-10-28T17:22:22.952395Z",
          "iopub.status.idle": "2022-10-28T17:22:22.969677Z",
          "shell.execute_reply.started": "2022-10-28T17:22:22.952355Z",
          "shell.execute_reply": "2022-10-28T17:22:22.968543Z"
        },
        "trusted": true,
        "id": "F4pUmdZZod0V",
        "outputId": "55fe56d6-b534-42c6-fb97-efd6401bbf62"
      },
      "execution_count": null,
      "outputs": [
        {
          "name": "stdout",
          "text": "<class 'pandas.core.frame.DataFrame'>\nRangeIndex: 891 entries, 0 to 890\nData columns (total 5 columns):\n #   Column       Non-Null Count  Dtype  \n---  ------       --------------  -----  \n 0   PassengerId  891 non-null    int64  \n 1   Survived     891 non-null    int64  \n 2   Pclass       891 non-null    int64  \n 3   Sex          891 non-null    object \n 4   Age          714 non-null    float64\ndtypes: float64(1), int64(3), object(1)\nmemory usage: 34.9+ KB\n",
          "output_type": "stream"
        }
      ]
    },
    {
      "cell_type": "code",
      "source": [
        "#convert categorical data to numerical data"
      ],
      "metadata": {
        "execution": {
          "iopub.status.busy": "2022-10-28T17:22:22.971431Z",
          "iopub.execute_input": "2022-10-28T17:22:22.971778Z",
          "iopub.status.idle": "2022-10-28T17:22:22.983327Z",
          "shell.execute_reply.started": "2022-10-28T17:22:22.971746Z",
          "shell.execute_reply": "2022-10-28T17:22:22.981833Z"
        },
        "trusted": true,
        "id": "yTwCjRC9od0W"
      },
      "execution_count": null,
      "outputs": []
    },
    {
      "cell_type": "code",
      "source": [
        "#convert ['male', 'female'] to [1,0] so that our decision tree can be built \n",
        "for df in [df_train,df_test]: \n",
        "    df['Sex_binary']=df['Sex'].map({'male':1, 'female':0})\n",
        "    "
      ],
      "metadata": {
        "execution": {
          "iopub.status.busy": "2022-10-28T17:22:23.002066Z",
          "iopub.execute_input": "2022-10-28T17:22:23.002777Z",
          "iopub.status.idle": "2022-10-28T17:22:23.010731Z",
          "shell.execute_reply.started": "2022-10-28T17:22:23.002739Z",
          "shell.execute_reply": "2022-10-28T17:22:23.009769Z"
        },
        "trusted": true,
        "id": "rhukOB9Bod0W"
      },
      "execution_count": null,
      "outputs": []
    },
    {
      "cell_type": "code",
      "source": [
        "#Look at the first three rows of our training data \n",
        "df_train.head(3)\n",
        "print(df_train.head(3))\n"
      ],
      "metadata": {
        "execution": {
          "iopub.status.busy": "2022-10-28T17:22:23.012990Z",
          "iopub.execute_input": "2022-10-28T17:22:23.014629Z",
          "iopub.status.idle": "2022-10-28T17:22:23.025904Z",
          "shell.execute_reply.started": "2022-10-28T17:22:23.014552Z",
          "shell.execute_reply": "2022-10-28T17:22:23.025003Z"
        },
        "trusted": true,
        "id": "m-zBUy9Aod0X",
        "outputId": "b22b7739-c7c4-4c0c-8333-c022d38583a5"
      },
      "execution_count": null,
      "outputs": [
        {
          "name": "stdout",
          "text": "   PassengerId  Survived  Pclass     Sex   Age  Sex_binary\n0            1         0       3    male  22.0           1\n1            2         1       1  female  38.0           0\n2            3         1       3  female  26.0           0\n",
          "output_type": "stream"
        }
      ]
    },
    {
      "cell_type": "code",
      "source": [
        "df_train.info()"
      ],
      "metadata": {
        "execution": {
          "iopub.status.busy": "2022-10-28T17:22:23.027214Z",
          "iopub.execute_input": "2022-10-28T17:22:23.027544Z",
          "iopub.status.idle": "2022-10-28T17:22:23.047069Z",
          "shell.execute_reply.started": "2022-10-28T17:22:23.027513Z",
          "shell.execute_reply": "2022-10-28T17:22:23.045986Z"
        },
        "trusted": true,
        "id": "qvn78ETAod0X",
        "outputId": "afba6166-ff36-4b81-b06d-de469261117a"
      },
      "execution_count": null,
      "outputs": [
        {
          "name": "stdout",
          "text": "<class 'pandas.core.frame.DataFrame'>\nRangeIndex: 891 entries, 0 to 890\nData columns (total 6 columns):\n #   Column       Non-Null Count  Dtype  \n---  ------       --------------  -----  \n 0   PassengerId  891 non-null    int64  \n 1   Survived     891 non-null    int64  \n 2   Pclass       891 non-null    int64  \n 3   Sex          891 non-null    object \n 4   Age          714 non-null    float64\n 5   Sex_binary   891 non-null    int64  \ndtypes: float64(1), int64(4), object(1)\nmemory usage: 41.9+ KB\n",
          "output_type": "stream"
        }
      ]
    },
    {
      "cell_type": "code",
      "source": [
        "#fill in missing age values with 0 (presuming they are a baby if they do not have a listed age )\n",
        "df_train['Age'] = df_train['Age'].fillna(0)\n",
        "df_test['Age'] = df_test['Age'].fillna(0)\n",
        "\n",
        "#Select feature column names and target variable that we are going to use for training \n",
        "features = ['Pclass', 'Age', 'Sex_binary']\n",
        "target ='Survived'\n",
        "\n",
        "#Look at the first three rows (we have 800 total rows ) of our training data\n",
        "#This is input which our classifier will use as an input \n",
        "df_train[features].head(3)\n",
        "print(df_train[features].head(3))\n",
        "df_train[target].head(3).values\n",
        "\n"
      ],
      "metadata": {
        "execution": {
          "iopub.status.busy": "2022-10-28T17:22:23.048632Z",
          "iopub.execute_input": "2022-10-28T17:22:23.049008Z",
          "iopub.status.idle": "2022-10-28T17:22:23.065105Z",
          "shell.execute_reply.started": "2022-10-28T17:22:23.048970Z",
          "shell.execute_reply": "2022-10-28T17:22:23.063784Z"
        },
        "trusted": true,
        "id": "GuiNjVXEod0Y",
        "outputId": "6478a6e7-a34f-4897-f02f-99a8b6fd6ca7"
      },
      "execution_count": null,
      "outputs": [
        {
          "name": "stdout",
          "text": "   Pclass   Age  Sex_binary\n0       3  22.0           1\n1       1  38.0           0\n2       3  26.0           0\n",
          "output_type": "stream"
        },
        {
          "execution_count": 297,
          "output_type": "execute_result",
          "data": {
            "text/plain": "array([0, 1, 1])"
          },
          "metadata": {}
        }
      ]
    },
    {
      "cell_type": "code",
      "source": [
        "from sklearn.tree import DecisionTreeClassifier"
      ],
      "metadata": {
        "execution": {
          "iopub.status.busy": "2022-10-28T17:22:23.068496Z",
          "iopub.execute_input": "2022-10-28T17:22:23.069181Z",
          "iopub.status.idle": "2022-10-28T17:22:23.076664Z",
          "shell.execute_reply.started": "2022-10-28T17:22:23.069135Z",
          "shell.execute_reply": "2022-10-28T17:22:23.075550Z"
        },
        "trusted": true,
        "id": "vHD6PDCwod0Z"
      },
      "execution_count": null,
      "outputs": []
    },
    {
      "cell_type": "code",
      "source": [
        "clf = DecisionTreeClassifier()"
      ],
      "metadata": {
        "execution": {
          "iopub.status.busy": "2022-10-28T17:22:23.078807Z",
          "iopub.execute_input": "2022-10-28T17:22:23.079381Z",
          "iopub.status.idle": "2022-10-28T17:22:23.088914Z",
          "shell.execute_reply.started": "2022-10-28T17:22:23.079345Z",
          "shell.execute_reply": "2022-10-28T17:22:23.087765Z"
        },
        "trusted": true,
        "id": "ivsn9a7Mod0Z"
      },
      "execution_count": null,
      "outputs": []
    },
    {
      "cell_type": "code",
      "source": [
        "clf.fit(df_train[features], df_train[target])"
      ],
      "metadata": {
        "execution": {
          "iopub.status.busy": "2022-10-28T17:22:23.090225Z",
          "iopub.execute_input": "2022-10-28T17:22:23.090918Z",
          "iopub.status.idle": "2022-10-28T17:22:23.107555Z",
          "shell.execute_reply.started": "2022-10-28T17:22:23.090883Z",
          "shell.execute_reply": "2022-10-28T17:22:23.106004Z"
        },
        "trusted": true,
        "id": "igm5zzABod0b",
        "outputId": "fcca317d-1eaf-4910-cfc5-cf1e2fd76501"
      },
      "execution_count": null,
      "outputs": [
        {
          "execution_count": 300,
          "output_type": "execute_result",
          "data": {
            "text/plain": "DecisionTreeClassifier()"
          },
          "metadata": {}
        }
      ]
    },
    {
      "cell_type": "code",
      "source": [
        "predictions = clf.predict(df_test[features])"
      ],
      "metadata": {
        "execution": {
          "iopub.status.busy": "2022-10-28T17:22:23.109764Z",
          "iopub.execute_input": "2022-10-28T17:22:23.110234Z",
          "iopub.status.idle": "2022-10-28T17:22:23.119905Z",
          "shell.execute_reply.started": "2022-10-28T17:22:23.110189Z",
          "shell.execute_reply": "2022-10-28T17:22:23.119021Z"
        },
        "trusted": true,
        "id": "SESir1TOod0c"
      },
      "execution_count": null,
      "outputs": []
    },
    {
      "cell_type": "code",
      "source": [
        "predictions"
      ],
      "metadata": {
        "execution": {
          "iopub.status.busy": "2022-10-28T17:22:23.121637Z",
          "iopub.execute_input": "2022-10-28T17:22:23.122367Z",
          "iopub.status.idle": "2022-10-28T17:22:23.134251Z",
          "shell.execute_reply.started": "2022-10-28T17:22:23.122320Z",
          "shell.execute_reply": "2022-10-28T17:22:23.133000Z"
        },
        "trusted": true,
        "id": "NXSxiHUGod0c",
        "outputId": "7794bc80-8b3a-4a79-ba5d-f88c57c4651b"
      },
      "execution_count": null,
      "outputs": [
        {
          "execution_count": 302,
          "output_type": "execute_result",
          "data": {
            "text/plain": "array([0, 0, 1, 1, 1, 0, 0, 0, 0, 0, 0, 0, 1, 1, 1, 1, 0, 0, 1, 0, 0, 0,\n       1, 0, 1, 0, 1, 0, 0, 0, 0, 0, 1, 1, 0, 0, 1, 0, 0, 0, 0, 0, 0, 1,\n       1, 0, 0, 0, 1, 1, 0, 0, 1, 1, 0, 0, 0, 0, 0, 1, 0, 0, 0, 1, 1, 1,\n       0, 0, 0, 1, 1, 0, 0, 0, 1, 1, 0, 1, 0, 1, 1, 0, 1, 0, 0, 0, 1, 0,\n       1, 1, 1, 0, 1, 0, 1, 0, 1, 0, 0, 0, 1, 0, 0, 0, 1, 0, 0, 0, 0, 0,\n       0, 1, 1, 0, 1, 0, 0, 1, 1, 1, 1, 0, 1, 0, 0, 0, 0, 1, 0, 0, 0, 0,\n       1, 0, 0, 0, 0, 0, 0, 0, 0, 1, 0, 0, 1, 0, 0, 0, 0, 0, 1, 0, 0, 1,\n       1, 0, 1, 0, 1, 1, 1, 0, 0, 0, 0, 1, 1, 0, 1, 1, 0, 1, 0, 0, 0, 1,\n       1, 0, 1, 1, 0, 0, 1, 0, 1, 0, 1, 0, 1, 0, 0, 0, 0, 0, 1, 0, 1, 0,\n       0, 1, 1, 1, 0, 1, 0, 0, 1, 0, 1, 0, 0, 0, 0, 0, 1, 1, 1, 0, 0, 0,\n       1, 0, 1, 0, 1, 1, 0, 1, 0, 0, 0, 1, 0, 0, 0, 0, 0, 0, 1, 1, 1, 1,\n       0, 0, 0, 0, 1, 0, 1, 1, 1, 0, 1, 0, 0, 0, 0, 0, 1, 0, 0, 0, 1, 1,\n       0, 0, 0, 0, 1, 0, 0, 0, 1, 1, 0, 1, 0, 0, 0, 0, 0, 0, 1, 0, 0, 0,\n       0, 0, 0, 0, 0, 0, 0, 0, 0, 0, 1, 0, 0, 0, 0, 0, 0, 0, 1, 1, 0, 0,\n       0, 0, 0, 0, 0, 0, 1, 0, 0, 0, 1, 0, 0, 0, 0, 0, 1, 0, 1, 0, 0, 0,\n       1, 0, 0, 1, 1, 0, 0, 0, 0, 0, 0, 0, 0, 1, 0, 1, 0, 1, 0, 1, 1, 0,\n       0, 0, 1, 0, 1, 0, 0, 0, 0, 1, 1, 1, 0, 1, 0, 1, 1, 0, 0, 1, 1, 0,\n       1, 1, 1, 0, 0, 0, 0, 0, 1, 1, 0, 1, 0, 0, 0, 1, 1, 1, 1, 0, 0, 1,\n       0, 1, 0, 0, 1, 0, 1, 1, 1, 0, 0, 0, 1, 0, 1, 1, 0, 0, 1, 0, 0, 0])"
          },
          "metadata": {}
        }
      ]
    },
    {
      "cell_type": "code",
      "source": [
        "output=pd.DataFrame({'PassengerId' :df_test['PassengerId'], 'Survived':predictions})"
      ],
      "metadata": {
        "execution": {
          "iopub.status.busy": "2022-10-28T17:22:23.135773Z",
          "iopub.execute_input": "2022-10-28T17:22:23.136830Z",
          "iopub.status.idle": "2022-10-28T17:22:23.147222Z",
          "shell.execute_reply.started": "2022-10-28T17:22:23.136783Z",
          "shell.execute_reply": "2022-10-28T17:22:23.145968Z"
        },
        "trusted": true,
        "id": "Btx30TCwod0d"
      },
      "execution_count": null,
      "outputs": []
    },
    {
      "cell_type": "code",
      "source": [
        "output.to_csv('submission.csv', index=False)"
      ],
      "metadata": {
        "execution": {
          "iopub.status.busy": "2022-10-28T17:22:23.149908Z",
          "iopub.execute_input": "2022-10-28T17:22:23.150728Z",
          "iopub.status.idle": "2022-10-28T17:22:23.161747Z",
          "shell.execute_reply.started": "2022-10-28T17:22:23.150679Z",
          "shell.execute_reply": "2022-10-28T17:22:23.160322Z"
        },
        "trusted": true,
        "id": "OHzFxGY8od0d"
      },
      "execution_count": null,
      "outputs": []
    },
    {
      "cell_type": "code",
      "source": [],
      "metadata": {
        "id": "lLm96SPIod0d"
      },
      "execution_count": null,
      "outputs": []
    }
  ]
}